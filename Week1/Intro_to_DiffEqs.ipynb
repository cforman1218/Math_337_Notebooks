{
 "cells": [
  {
   "cell_type": "code",
   "execution_count": 2,
   "metadata": {},
   "outputs": [],
   "source": [
    "import numpy as np\n",
    "import matplotlib.pyplot as plt\n",
    "%matplotlib inline"
   ]
  },
  {
   "cell_type": "markdown",
   "metadata": {},
   "source": [
    "## Your First Differential Equation\n",
    "\n",
    "So, we are going to start with the classic compound interest problem.  Starting with principal $P_{0}$, we have the following interest model \n",
    "\n",
    "$$\n",
    "P_{n} = P_{n-1} + r\\Delta t P_{n-1}, ~ n\\geq 1\n",
    "$$\n",
    "\n",
    "in which \n",
    "\n",
    " * $P_{n}$ = Amoung of cash at $n^{th}$ time step.\n",
    "\n",
    " * $r$ = rate of return \n",
    "\n",
    " * $\\Delta t$ = interval of time between computing interest \n",
    " \n",
    "The above equation for $P_{n}$ is known as a _difference equation_.  Difference equations and differential equations are intimately related as we are about to show.  "
   ]
  },
  {
   "cell_type": "markdown",
   "metadata": {},
   "source": [
    "### From Discrete Solution to a Continuous Solution\n",
    "\n",
    "**Problem 1**: Using induction, show that $P_{n}=(1+r\\Delta t)^{n}P_{0}$ solves the above difference equation.  "
   ]
  },
  {
   "cell_type": "markdown",
   "metadata": {},
   "source": [
    "*Solution*: Base case: $n=1$ so that \n",
    "\\begin{align*}\n",
    "P_{1}=& P_{0}+r\\Delta t P_{0} \\\\\n",
    "=&(1+r\\Delta t)P_{0}\n",
    "\\end{align*}\n",
    "Then, starting from \n",
    "$$\n",
    "P_{n+1} = (1+r\\Delta t)P_{n}\n",
    "$$\n",
    "and using the inductive hypothesis $P_{n}=(1+r\\Delta t)^{n}P_{0}$, we then have \n",
    "$$\n",
    "P_{n+1} = (1+r\\Delta t)P_{n} = (1+r\\Delta t)(1+r\\Delta t)^{n}P_{0} = (1+r\\Delta t)^{n+1}P_{0}\n",
    "$$\n",
    "and that completes the proof (last bit of induction for a long long while, so don't worry if this isn't crystal clear)."
   ]
  },
  {
   "cell_type": "markdown",
   "metadata": {},
   "source": [
    "**Problem 2**: Using the identity $x = e^{\\ln(x)}$ and the fact that $\\ln(x^{n}) = n\\ln(x)$ show that \n",
    "\n",
    "$$\n",
    "P_{n} = e^{n\\ln(1+r\\Delta t)}P_{0}\n",
    "$$"
   ]
  },
  {
   "cell_type": "markdown",
   "metadata": {},
   "source": [
    "*Solution*: So if\n",
    "$$\n",
    "P_{n} = (1+r\\Delta t)^{n}P_{0}\n",
    "$$\n",
    "then we have, using the above identities, that \n",
    "$$\n",
    "P_{n}=(1+r\\Delta t)^{n}P_{0} = e^{\\ln((1+r\\Delta t)^{n})}P_{0} = e^{n\\ln(1+r\\Delta t)}P_{0}\n",
    "$$"
   ]
  },
  {
   "cell_type": "markdown",
   "metadata": {},
   "source": [
    "Okay, well that looks messy, but useful for keeping track of your bank account.  \n",
    "\n",
    "Now as to that mess.  Like good applied mathematicians, we know that whenever we are confronted with mess, we handle that business through approximation.  To wit, we suppose that $\\Delta t$ is small, so that we are making a modeling assumption in which we suppose that the interest is compounded frequently.  \n",
    "\n",
    "> Note: Throughout the course you will see me abbreviate the statement \"$\\Delta t$ is small\" as $\\Delta t \\ll 1$.  \n",
    "\n",
    "So, supposing $\\delta t \\ll 1$, we might think about using a Taylor series.  The relevant one here is \n",
    "\n",
    "$$\n",
    "\\ln(1+x) = x - \\frac{x^{2}}{2} + \\frac{x^{3}}{3} + \\mathcal{O}(x^{4})\n",
    "$$\n",
    "\n",
    "Now, what's that $\\mathcal{O}(x^{4})$ all about?  Well the full expression for the above Taylor series is \n",
    "\n",
    "$$\n",
    "\\ln(1+x) = x - \\frac{x^{2}}{2} + \\frac{x^{3}}{3} + \\sum_{n=4}^{\\infty}(-1)^{n+1}\\frac{x^{n}}{n}\n",
    "$$\n",
    "\n",
    "so everything in the $\\mathcal{O}(x^{4})$ term means all those powers of $x$ equal to or greater than 4.  And keep in mind, we want to use these formula when $|x|\\ll 1$, so if that's true, then every higher power of $x$ gets smaller and smaller. That all said, we could even be really daring and just use \n",
    "\n",
    "$$\n",
    "\\ln(1+x) = x + \\mathcal{O}(x^{2}).\n",
    "$$"
   ]
  },
  {
   "cell_type": "markdown",
   "metadata": {},
   "source": [
    "**Problem 3**: Using $\\ln(1+x) = x + \\mathcal{O}(x^{2})$, provide a brief argument for why \n",
    "\n",
    "$$\n",
    "P_{n} \\approx e^{rn\\Delta t}P_{0}\n",
    "$$\n",
    "\n",
    "is a good approximation if $\\Delta t \\ll 1$."
   ]
  },
  {
   "cell_type": "markdown",
   "metadata": {},
   "source": [
    "*Solution*: \n",
    "$$\n",
    "P_{n} = e^{n\\ln(1+r\\Delta t)}P_{0} \\approx e^{n(r\\Delta t + \\mathcal{O}(r^{2}(\\Delta t)^{2}))} P_{0} \\approx e^{n(r\\Delta t )} P_{0} = e^{r(n \\Delta t )} P_{0}\n",
    "$$"
   ]
  },
  {
   "cell_type": "markdown",
   "metadata": {},
   "source": [
    "Now the next step is a little weird.  I could make this more technical, but I don't want to get too bogged down in the details.  What we're going to do is say that \n",
    "\n",
    "$$\n",
    "P_{n}=P(n\\Delta t),\n",
    "$$\n",
    "\n",
    "so that there is some function $P(t)$ equal to $P_{n}$ when $t=n\\Delta t$.  Note, this implies that \n",
    "\n",
    "$$P(0)=P_{0}.$$  \n",
    "\n",
    "I am then going to say that as $\\Delta t\\rightarrow 0$, our approximation becomes  \n",
    "\n",
    "$$\n",
    "P(t) = e^{rt}P_{0}.\n",
    "$$\n",
    "\n",
    "Thus, if interest is compounded continuously, we get that our investment will follow the behavior of the above function.  \n",
    "\n"
   ]
  },
  {
   "cell_type": "markdown",
   "metadata": {},
   "source": [
    "### From Difference Equation to Differential Equation\n",
    "\n",
    "Okay, so where are we going here?  Well, let's go back to the difference equation, but rewrite it slightly so that \n",
    "\n",
    "$$\n",
    "\\frac{P_{n}-P_{n-1}}{\\Delta t} = r P_{n-1}.\n",
    "$$\n",
    "\n",
    "That left-hand side should feel a lot like a derivative.  Let's see why that is.  Using our $P_{n}=P(n\\delta t)$ formula, if we follow the logic forward then we have \n",
    "\n",
    "\\begin{align*}\n",
    "P_{n-1} = & P((n-1)\\Delta t)\\\\\n",
    "= & P(n\\Delta t - \\Delta t)\\\\\n",
    "= & P(n\\Delta t) - P'(n\\Delta t) \\Delta t + \\mathcal{O}((\\Delta t)^{2})\\\\\n",
    "\\end{align*}\n",
    "\n",
    "Look at us using Taylor Series like barbarians!  Also, this should be the trickiest thing we ever do with a Taylor series throughout the course.  So try to remember this is here, especially when we talk about numerics later.  "
   ]
  },
  {
   "cell_type": "markdown",
   "metadata": {},
   "source": [
    "**Problem 4**: Using the above, show that the difference equation can be written as \n",
    "\n",
    "$$\n",
    "P'(n\\Delta t) + \\mathcal{O}(\\Delta t) = rP(n\\Delta t) + \\mathcal{O}(\\Delta t).\n",
    "$$\n",
    "\n",
    "Note, use $\\mathcal{O}((\\Delta t)^{2})/\\Delta t = \\mathcal{O}(\\Delta t)$.\n",
    "\n",
    "From this, letting $\\Delta t \\rightarrow 0$, find the differential equation \n",
    "\n",
    "$$\n",
    "\\frac{dP}{dt} = rP, ~ P(0) = P_{0}\n",
    "$$"
   ]
  },
  {
   "cell_type": "markdown",
   "metadata": {},
   "source": [
    "*Solution*: So if we use the formula for $P_{n-1}$ we find that \n",
    "\n",
    "\\begin{align*}\n",
    "\\frac{P_{n}-P_{n-1}}{\\Delta t} = & \\frac{P'(n\\Delta t)\\Delta t + \\mathcal{O}((\\Delta t)^{2})}{\\Delta t} \\\\\n",
    "= & P'(n\\Delta t) + \\mathcal{O}(\\Delta t)\n",
    "\\end{align*}\n",
    "\n",
    "Likewise, we have that $rP_{n-1} = rP(n\\Delta t) + \\mathcal{O}(\\Delta t)$, and so we see \n",
    "\n",
    "$$\n",
    "P'(n\\Delta t) + \\mathcal{O}(\\Delta t) = rP(n\\Delta t) + \\mathcal{O}(\\Delta t)\n",
    "$$\n",
    "\n",
    "Letting $\\Delta t \\rightarrow 0$ (and $n\\rightarrow \\infty$ so that $n\\Delta t \\rightarrow t$) we then get \n",
    "\n",
    "$$\n",
    "\\frac{dP}{dt} = rP, ~ P(0) = P_{0}\n",
    "$$"
   ]
  },
  {
   "cell_type": "markdown",
   "metadata": {},
   "source": [
    "And now we have your first differential equation.  It is *1st order* because it only involves a first derivative.  It has an *initial condition* $P(0)=P_{0}$.  To wit:"
   ]
  },
  {
   "cell_type": "markdown",
   "metadata": {},
   "source": [
    "**Problem 5**: Show that $P(t) = e^{rt}P_{0}$ solves our differential equation for the given initial condition.  "
   ]
  },
  {
   "cell_type": "markdown",
   "metadata": {},
   "source": [
    "*Solution*: We have\n",
    "$$\n",
    "\\frac{d}{dt}\\left(e^{rt}P_{0}\\right) = re^{rt}P_{0} = rP(t).\n",
    "$$\n",
    "And noting that $P(0)=e^{r0}P_{0}=P_{0}$, that's that.  "
   ]
  },
  {
   "cell_type": "markdown",
   "metadata": {},
   "source": [
    "So what have we shown in all of this?\n",
    "* Difference equations with small steps pass to differential equations. \n",
    "* The solution of the difference equation passes to that of the differential equation.  \n",
    "* Differential equations are easier to work with than difference equations.  "
   ]
  },
  {
   "cell_type": "markdown",
   "metadata": {},
   "source": [
    "## Quick Solution Method"
   ]
  },
  {
   "cell_type": "markdown",
   "metadata": {},
   "source": [
    "We'll talk about this more, but there is no reason we can't quickly see how to solve our differential equation model.  To do this, we perform the following separation of variables:\n",
    "\n",
    "$$\n",
    "\\frac{dP}{dt} = rP \\rightarrow \\frac{dP}{P} = rdt\n",
    "$$\n",
    "\n",
    "I now integrate both sides so that \n",
    "\n",
    "$$\n",
    "\\int \\frac{dP}{P} = r\\int dt\n",
    "$$\n",
    "\n",
    "and thus we find that \n",
    "\n",
    "$$\n",
    "\\ln|P| = rt + C\n",
    "$$\n",
    "\n",
    "so that  \n",
    "\n",
    "$$\n",
    "P(t) = e^{C+rt} = e^{C}e^{rt}.  \n",
    "$$\n",
    "\n",
    "Now that $e^{C}$ is a little annoying since it's $e$ raised to an arbitrary constant, which just makes it an arbitrary constant.  So we replace it with $P(t)=\\tilde{C}e^{rt}$.  To find the initial condition, we see that \n",
    "\n",
    "$$\n",
    "P(0) = \\tilde{C} = P_{0},\n",
    "$$\n",
    "\n",
    "and thus we find the solution \n",
    "\n",
    "$$\n",
    "P(t) = P_{0}e^{rt}.\n",
    "$$"
   ]
  },
  {
   "cell_type": "markdown",
   "metadata": {},
   "source": [
    "**Problem 6**: Suppose we continuously deposit an amount of money $k$ while compounding interest on a principal investment $P_{0}$.  We can then model our investment in time via the differential equation \n",
    "\n",
    "$$\n",
    "\\frac{dP}{dt} = rP + k, ~ P(0)=P_{0}\n",
    "$$\n",
    "\n",
    "Find the solution $P(t)$ to this differential equation.  "
   ]
  },
  {
   "cell_type": "markdown",
   "metadata": {},
   "source": [
    "*Solution* - So, I think it is a little easier to use a little trick first before we start shuffling terms across the equal sign.  My trick is to just factor a little bit.  Watch:\n",
    "\n",
    "$$\n",
    "\\frac{dP}{dt} = rP + k = r\\left(P + \\frac{k}{r} \\right).\n",
    "$$\n",
    "\n",
    "So now, when I shuffle, I get \n",
    "\n",
    "$$\n",
    "\\frac{dP}{P + \\frac{k}{r}} = rdt.\n",
    "$$\n",
    "\n",
    "Note, my bit of factoring left me with an integral on right-hand side that is easier to take since I don't need to use any tricky usubs to find the integral.  \n",
    "\n",
    "Integrate and do a little bit of constant collapsing and we find \n",
    "\n",
    "$$\n",
    "P(t) + \\frac{k}{r} = \\tilde{C}e^{rt}\n",
    "$$\n",
    "\n",
    "or \n",
    "\n",
    "$$\n",
    "P(t) = \\tilde{C}e^{rt} - \\frac{k}{r}.\n",
    "$$\n",
    "\n",
    "If we then apply our initial condition, we find that \n",
    "\n",
    "$$\n",
    "P(0) = \\tilde{C} - \\frac{k}{r} = P_{0}\n",
    "$$\n",
    "\n",
    "so that \n",
    "\n",
    "$$\n",
    "\\tilde{C} = P_{0} + \\frac{k}{r}\n",
    "$$\n",
    "\n",
    "and therefore we find the solution\n",
    "\n",
    "$$\n",
    "P(t) = \\left(P_{0} + \\frac{k}{r} \\right)e^{rt} - \\frac{k}{r}.\n",
    "$$"
   ]
  },
  {
   "cell_type": "markdown",
   "metadata": {},
   "source": [
    "Okay, so now suppose you're thirty years old.  You have access to a retirement account which gives an annual 3% return.  You start with a 1000 dollar investment.  Compare the difference in net investment between depositing 100 a month into your account and 200 a month into your account when you're sixty five.   \n",
    "\n",
    "So, that's $P_{0}=1000$, $r = .03$, and if we stick to working in years, we have $k=1200$ or $k=2400$.  From here, let me use just a dash of Python to make some figures.  "
   ]
  },
  {
   "cell_type": "code",
   "execution_count": 7,
   "metadata": {},
   "outputs": [
    {
     "data": {
      "text/plain": [
       "Text(0.5, 0, 'Time(years)')"
      ]
     },
     "execution_count": 7,
     "metadata": {},
     "output_type": "execute_result"
    },
    {
     "data": {
      "image/png": "[encoded data removed]",
      "text/plain": [
       "<Figure size 432x288 with 1 Axes>"
      ]
     },
     "metadata": {
      "needs_background": "light"
     },
     "output_type": "display_data"
    }
   ],
   "source": [
    "P0 = 1000.\n",
    "k1 = 1200.\n",
    "k2 = 2400.\n",
    "r = .03\n",
    "p1 = lambda t: (P0+k1/r)*np.exp(r*t) - k1/r\n",
    "p2 = lambda t: (P0+k2/r)*np.exp(r*t) - k2/r\n",
    "tvals = np.linspace(0, 35, 36)\n",
    "plt.plot(tvals, p1(tvals), color='k', label='$k=1200$')\n",
    "plt.plot(tvals, p2(tvals), color='r', label='$k=2400$')\n",
    "plt.legend()\n",
    "plt.xlabel(\"Time(years)\")"
   ]
  },
  {
   "cell_type": "markdown",
   "metadata": {},
   "source": [
    "So no big surprises there.  Now of course, someone is probably thinking... but if we only compounded interest annually... but we're using a continuous model... hmmm... something seems a little sus here.  So of course, we could have worked with the equivalent discrete-time model\n",
    "\n",
    "$$\n",
    "P_{n} = (1+r\\Delta t)P_{n-1} + k\\Delta t, ~ n\\geq 1.\n",
    "$$ \n",
    "\n",
    "and... it's hard (thus why I just give you the answer in the GroupWork).  So often, solving differential equations is markedly easier than solving difference equations, even though difference equations make more sense.  Now, in this example, we should also ask, exactly what is $\\delta t$?  Now let's say we still use $k=1200/yr$ or $k=2400/yr$.  Okay, so $\\delta t=1  yr$... which is not exactly small.  Or is it?  Well keep in mind, you're interested in looking at what happens over a 35 year long span of time.  So, using the exact solution to this problem from the GroupWork we find \n",
    "\n",
    "$$\n",
    "P_{n} = (1+r\\Delta t)^{n}\\left(P_{0} + \\frac{k}{r} \\right) - \\frac{k}{r}\n",
    "$$\n",
    "\n",
    "Let's compare for $k=1200/yr$ the difference in our continuous and discrete approximations."
   ]
  },
  {
   "cell_type": "code",
   "execution_count": 10,
   "metadata": {},
   "outputs": [
    {
     "data": {
      "text/plain": [
       "Text(0.5, 0, 'Time(years)')"
      ]
     },
     "execution_count": 10,
     "metadata": {},
     "output_type": "execute_result"
    },
    {
     "data": {
      "image/png": "[encoded data removed]",
      "text/plain": [
       "<Figure size 432x288 with 1 Axes>"
      ]
     },
     "metadata": {
      "needs_background": "light"
     },
     "output_type": "display_data"
    }
   ],
   "source": [
    "pd = lambda n: (P0+k1/r)*(1.+r)**n - k1/r\n",
    "plt.plot(tvals, p1(tvals), color='k', label='$k=1200$')\n",
    "plt.scatter(tvals, pd(tvals), color='r', label='$k=1200, discrete$')\n",
    "plt.legend()\n",
    "plt.xlabel(\"Time(years)\")"
   ]
  },
  {
   "cell_type": "markdown",
   "metadata": {},
   "source": [
    "So while not exact, clearly we don't lose too much in using the continuous, differential-equation based approximation.  And we get something that is far easier to work with using the tools of Calculus.  So... I'd call that worth the minor error in approximation.  "
   ]
  },
  {
   "cell_type": "code",
   "execution_count": null,
   "metadata": {},
   "outputs": [],
   "source": []
  }
 ],
 "metadata": {
  "kernelspec": {
   "display_name": "Python 3",
   "language": "python",
   "name": "python3"
  },
  "language_info": {
   "codemirror_mode": {
    "name": "ipython",
    "version": 3
   },
   "file_extension": ".py",
   "mimetype": "text/x-python",
   "name": "python",
   "nbconvert_exporter": "python",
   "pygments_lexer": "ipython3",
   "version": "3.8.3"
  }
 },
 "nbformat": 4,
 "nbformat_minor": 4
}
