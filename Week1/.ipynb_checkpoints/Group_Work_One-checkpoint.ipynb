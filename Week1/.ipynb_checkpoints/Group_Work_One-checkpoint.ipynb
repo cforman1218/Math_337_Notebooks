{
 "cells": [
  {
   "cell_type": "markdown",
   "metadata": {},
   "source": [
    "## Group Work One: Due 1/29/21\n",
    "\n",
    "**Problem 15 from 1.1 of the Textbook; see page 12.**  There is no trick to this beyond substitution and showing the left side equals the right.  "
   ]
  },
  {
   "cell_type": "markdown",
   "metadata": {},
   "source": [
    "*Solution*: "
   ]
  },
  {
   "cell_type": "markdown",
   "metadata": {},
   "source": [
    "**Problem 18 from 1.1 of the Textbook; see page 12.** To find Equation (ii), I would rewrite the equation\n",
    "\n",
    "$$\n",
    "P(t+\\Delta t) \\approx P(t) + r\\Delta t P(t) + k\\Delta t\n",
    "$$\n",
    "\n",
    "using $t=n\\Delta t$ so that \n",
    "\n",
    "$$\n",
    "P(n\\Delta t+\\Delta t) \\approx P(n\\Delta t) + r\\Delta t P(n\\Delta t) + k\\Delta t\n",
    "$$\n",
    "or \n",
    "$$\n",
    "P((n+1)\\Delta t) \\approx P(n\\Delta t) + r\\Delta t P(n\\Delta t) + k\\Delta t\n",
    "$$\n",
    "\n",
    "\n",
    "Letting $P_{n}=P(n\\Delta t)$ gives us the difference equation \n",
    "\n",
    "$$\n",
    "P_{n+1} = P_{n} + r\\Delta t P_{n} + k\\Delta t = (1+r\\Delta t)P_{n} + k\\Delta t, ~ n\\geq 0.\n",
    "$$\n",
    "\n",
    "A little bird in my brain then tells me that \n",
    "$$\n",
    "P_{n} = (1+r\\Delta t)^{n}\\left( P_{0} + \\frac{k}{r}\\right) - \\frac{k}{r}\n",
    "$$\n",
    "You do **NOT** need to prove this inductively.  That said, from this solution to the difference equation, you can derive Equation (ii) using the steps I showed in the notes.  "
   ]
  },
  {
   "cell_type": "markdown",
   "metadata": {},
   "source": [
    "*Solution*: "
   ]
  },
  {
   "cell_type": "code",
   "execution_count": null,
   "metadata": {},
   "outputs": [],
   "source": []
  }
 ],
 "metadata": {
  "kernelspec": {
   "display_name": "Python 3",
   "language": "python",
   "name": "python3"
  },
  "language_info": {
   "codemirror_mode": {
    "name": "ipython",
    "version": 3
   },
   "file_extension": ".py",
   "mimetype": "text/x-python",
   "name": "python",
   "nbconvert_exporter": "python",
   "pygments_lexer": "ipython3",
   "version": "3.8.3"
  }
 },
 "nbformat": 4,
 "nbformat_minor": 4
}
