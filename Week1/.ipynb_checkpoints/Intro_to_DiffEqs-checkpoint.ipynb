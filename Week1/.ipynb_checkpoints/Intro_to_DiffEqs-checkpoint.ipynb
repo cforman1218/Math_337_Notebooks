{
 "cells": [
  {
   "cell_type": "code",
   "execution_count": 2,
   "metadata": {},
   "outputs": [],
   "source": [
    "import numpy as np\n",
    "import matplotlib.pyplot as plt\n",
    "%matplotlib inline"
   ]
  },
  {
   "cell_type": "markdown",
   "metadata": {},
   "source": [
    "## Your First Differential Equation\n",
    "\n",
    "So, we are going to start with the classic compound interest problem.  Starting with principal $P_{0}$, we have the following interest model \n",
    "\n",
    "$$\n",
    "P_{n} = P_{n-1} + r\\delta t P_{n-1}, ~ n\\geq 1\n",
    "$$\n",
    "\n",
    "in which \n",
    "\n",
    " * $P_{n}$ = Amoung of cash at $n^{th}$ time step.\n",
    "\n",
    " * $r$ = rate of return \n",
    "\n",
    " * $\\delta t$ = interval of time between computing interest \n",
    " \n",
    "The above equation for $P_{n}$ is known as a _difference equation_.  Difference equations and differential equations are intimately related as we are about to show.  "
   ]
  },
  {
   "cell_type": "markdown",
   "metadata": {},
   "source": [
    "**Problem 1**: Using induction, show that $P_{n}=(1+r\\delta t)^{n}P_{0}$ solves the above difference equation.  "
   ]
  },
  {
   "cell_type": "markdown",
   "metadata": {},
   "source": [
    "**Problem 2**: Using the identity $x = e^{\\ln(x)}$ and the fact that $\\ln(x^{n}) = n\\ln(x)$ show that \n",
    "\n",
    "$$\n",
    "P_{n} = e^{n\\ln(1+r\\delta t)}P_{0}\n",
    "$$"
   ]
  },
  {
   "cell_type": "markdown",
   "metadata": {},
   "source": [
    "Okay, well that looks messy, but useful for keeping track of your bank account.  \n",
    "\n",
    "Now as to that mess.  Like good applied mathematicians, we know that whenever we are confronted with mess, we handle that business through approximation.  To wit, we suppose that $\\delta t$ is small, so that we are making a modeling assumption in which we suppose that the interest is compounded frequently.  \n",
    "\n",
    "> Note: Throughout the course you will see me abbreviate the statement \"$\\delta t$ is small\" as $\\delta t \\ll 1$.  \n",
    "\n",
    "So, supposing $\\delta t \\ll 1$, we might think about using a Taylor series.  The relevant one here is \n",
    "\n",
    "$$\n",
    "\\ln(1+x) = x - \\frac{x^{2}}{2} + \\frac{x^{3}}{3} + \\mathcal{O}(x^{4})\n",
    "$$\n",
    "\n",
    "Now, what's that $\\mathcal{O}(x^{4})$ all about?  Well the full expression for the above Taylor series is \n",
    "\n",
    "$$\n",
    "\\ln(1+x) = x - \\frac{x^{2}}{2} + \\frac{x^{3}}{3} + \\sum_{n=4}^{\\infty}(-1)^{n+1}\\frac{x^{n}}{n}\n",
    "$$\n",
    "\n",
    "so everything in the $\\mathcal{O}(x^{4})$ term means all those powers of $x$ equal to or greater than 4.  And keep in mind, we want to use these formula when $|x|\\ll 1$, so if that's true, then every higher power of $x$ gets smaller and smaller. That all said, we could even be really daring and just use \n",
    "\n",
    "$$\n",
    "\\ln(1+x) = x + \\mathcal{O}(x^{2}).\n",
    "$$"
   ]
  },
  {
   "cell_type": "markdown",
   "metadata": {},
   "source": [
    "**Problem 3**: Using $\\ln(1+x) = x + \\mathcal{O}(x^{2})$, provide a brief argument for why \n",
    "\n",
    "$$\n",
    "P_{n} \\approx e^{rn\\delta t}P_{0}\n",
    "$$\n",
    "\n",
    "is a good approximation if $\\delta t \\ll 1$."
   ]
  },
  {
   "cell_type": "markdown",
   "metadata": {},
   "source": [
    "Now the next step is a little weird.  I could make this more technical, but I don't want to get too bogged down in the details.  What we're going to do is say that \n",
    "\n",
    "$$\n",
    "P_{n}=P(n\\delta t),\n",
    "$$\n",
    "\n",
    "so that there is some function $P(t)$ equal to $P_{n}$ when $t=n\\delta t$.  Note, this implies that \n",
    "\n",
    "$$P(0)=P_{0}.$$  \n",
    "\n",
    "I am then going to say that as $\\delta t\\rightarrow 0$, our approximation becomes  \n",
    "\n",
    "$$\n",
    "P(t) = e^{rt}P_{0}.\n",
    "$$\n",
    "\n",
    "Thus, if interest is compounded continuously, we get that our investment will follow the behavior of the above function.  \n",
    "\n",
    "Okay, so where are we going here?  Well, let's go back to the difference equation, but rewrite it slightly so that \n",
    "\n",
    "$$\n",
    "\\frac{P_{n}-P_{n-1}}{\\delta t} = r \\delta t P_{n-1}.\n",
    "$$\n",
    "\n",
    "That left-hand side should feel a lot like a derivative.  Let's see why that is.  Using our $P_{n}=P(n\\delta t)$ formula, if we follow the logic forward then we have \n",
    "\n",
    "\\begin{align*}\n",
    "P_{n-1} = & P((n-1)\\delta t)\\\\\n",
    "= & P(n\\delta t - \\delta t)\\\\\n",
    "= & P(n\\delta t) - P'(n\\delta t) \\delta t + \\mathcal{O}((\\delta t)^{2})\\\\\n",
    "\\end{align*}\n",
    "\n",
    "Look at us using Taylor Series like barbarians!  Also, this should be the trickiest thing we ever do with a Taylor series throughout the course.  So try to remember this is here, especially when we talk about numerics later.  "
   ]
  },
  {
   "cell_type": "markdown",
   "metadata": {},
   "source": [
    "**Problem 4**: Using the above, show that the difference equation can be written as \n",
    "\n",
    "$$\n",
    "P'(n\\delta t) + \\mathcal{O}(\\delta t) = rP(n\\delta t) + \\mathcal{O}(\\delta t).\n",
    "$$\n",
    "\n",
    "Note, use $\\mathcal{O}((\\delta t)^{2})/\\delta t = \\mathcal{O}(\\delta t)$.\n",
    "\n",
    "From this, letting $\\delta t \\rightarrow 0$, find the differential equation \n",
    "\n",
    "$$\n",
    "\\frac{dP}{dt} = rP, ~ P(0) = P_{0}\n",
    "$$"
   ]
  },
  {
   "cell_type": "markdown",
   "metadata": {},
   "source": [
    "And now we have your first differential equation.  It is *1st order* because it only involves a first derivative.  It has an *initial condition* $P(0)=P_{0}$.  To wit:"
   ]
  },
  {
   "cell_type": "markdown",
   "metadata": {},
   "source": [
    "**Problem 5**: Show that $P(t) = e^{rt}P_{0}$ solves our differential equation for the given initial condition.  "
   ]
  },
  {
   "cell_type": "markdown",
   "metadata": {},
   "source": [
    "So what have we shown in all of this?\n",
    "* Difference equations with small steps pass to differential equations. \n",
    "* The solution of the difference equation passes to that of the differential equation.  \n",
    "* Differential equations are easier to work with than difference equations.  "
   ]
  },
  {
   "cell_type": "code",
   "execution_count": null,
   "metadata": {},
   "outputs": [],
   "source": []
  }
 ],
 "metadata": {
  "kernelspec": {
   "display_name": "Python 3",
   "language": "python",
   "name": "python3"
  },
  "language_info": {
   "codemirror_mode": {
    "name": "ipython",
    "version": 3
   },
   "file_extension": ".py",
   "mimetype": "text/x-python",
   "name": "python",
   "nbconvert_exporter": "python",
   "pygments_lexer": "ipython3",
   "version": "3.8.3"
  }
 },
 "nbformat": 4,
 "nbformat_minor": 4
}
