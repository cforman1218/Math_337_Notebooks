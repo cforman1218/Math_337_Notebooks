{
 "cells": [
  {
   "cell_type": "markdown",
   "metadata": {},
   "source": [
    "## LaTeX: A fast introduction\n",
    "\n",
    "What is LaTex?  It is a way for people to write math beautifully.  \n",
    "\n",
    "**Note**: To see the \"code\" in this Markdown cell, simply \"double click\" with your mouse.  To reformat the Markdown cell, hold the \"Shift\" and \"Enter\" keys at the same time.  \n",
    "    \n",
    "Anyway, in LaTeX, I can write things like \n",
    "\n",
    "$$\n",
    "\\frac{d}{dx}e^{2x} = 2e^{2x}\n",
    "$$\n",
    "\n",
    "I can write things like\n",
    "\n",
    "\\begin{align}\n",
    "\\int \\cos^{2}(x) dx = & \\int \\frac{1}{2}\\left(1 + \\cos(2x)\\right) dx \\\\\n",
    " = & \\frac{1}{2}\\left(x + \\frac{1}{2}\\sin(2x) \\right) + C\n",
    "\\end{align}\n",
    "\n",
    "I can write things like \n",
    "\n",
    "$$\n",
    "\\ln(x) \\leq x - 1\n",
    "$$\n",
    "\n",
    "And if I'm felling spunky, I can write \n",
    "\n",
    "$$\n",
    "f'(x) = \\lim_{h\\rightarrow 0}\\frac{f(x+h)-f(x)}{h}\n",
    "$$\n",
    "\n",
    "or even \n",
    "\n",
    "$$\n",
    "\\lim_{x\\rightarrow \\infty}\\frac{1}{x} = 0\n",
    "$$\n",
    "\n",
    "or\n",
    "\n",
    "$$\n",
    "\\lim_{x\\rightarrow -\\infty}\\frac{1}{x} = 0\n",
    "$$\n",
    "\n",
    "I'm a big fan of using \"dot\" notation for derivatives, so it's a good idea for you to know how to write, for the function $\\theta(t)$:\n",
    "\n",
    "$$\n",
    "\\dot{\\theta} = \\frac{d\\theta}{dt}, ~ \\ddot{\\theta} = \\frac{d^{2}\\theta}{dt^{2}}\n",
    "$$\n",
    "\n",
    "And of course I can toss in more Greek letters like $\\alpha$, $\\beta$, $\\gamma$, $\\delta$, $\\epsilon$, and so on.\n",
    "\n",
    "While we might need a little more TeX throughout the semester, I think for 337 all of the above cases should just about cover everything you'll need.  Anything else will come up as we need it.  "
   ]
  },
  {
   "cell_type": "code",
   "execution_count": null,
   "metadata": {},
   "outputs": [],
   "source": []
  }
 ],
 "metadata": {
  "kernelspec": {
   "display_name": "Python 3",
   "language": "python",
   "name": "python3"
  },
  "language_info": {
   "codemirror_mode": {
    "name": "ipython",
    "version": 3
   },
   "file_extension": ".py",
   "mimetype": "text/x-python",
   "name": "python",
   "nbconvert_exporter": "python",
   "pygments_lexer": "ipython3",
   "version": "3.8.3"
  }
 },
 "nbformat": 4,
 "nbformat_minor": 4
}
